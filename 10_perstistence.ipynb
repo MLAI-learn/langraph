{
 "cells": [
  {
   "cell_type": "code",
   "execution_count": 1,
   "id": "c412c077",
   "metadata": {},
   "outputs": [],
   "source": [
    "from langgraph.graph import StateGraph, START, END\n",
    "from langchain_google_genai import ChatGoogleGenerativeAI\n",
    "from typing import TypedDict\n",
    "from dotenv import load_dotenv\n",
    "from langgraph.checkpoint.memory import InMemorySaver"
   ]
  },
  {
   "cell_type": "code",
   "execution_count": 2,
   "id": "8c879674",
   "metadata": {},
   "outputs": [],
   "source": [
    "load_dotenv()\n",
    "\n",
    "llm= ChatGoogleGenerativeAI(model=\"gemini-2.0-flash\")"
   ]
  },
  {
   "cell_type": "code",
   "execution_count": 3,
   "id": "03a01302",
   "metadata": {},
   "outputs": [],
   "source": [
    "class JokeState(TypedDict):\n",
    "    \n",
    "    topic: str\n",
    "    joke: str\n",
    "    explanation: str"
   ]
  },
  {
   "cell_type": "code",
   "execution_count": 4,
   "id": "4aff9e0e",
   "metadata": {},
   "outputs": [],
   "source": [
    "def generate_joke(state: JokeState):\n",
    "    \n",
    "    prompt = f'generate a joke about {state[\"topic\"]}'\n",
    "    response = llm.invoke(prompt).content\n",
    "    \n",
    "    return {'joke': response}"
   ]
  },
  {
   "cell_type": "code",
   "execution_count": 5,
   "id": "ab6b4514",
   "metadata": {},
   "outputs": [],
   "source": [
    "def generate_explanation(state: JokeState):\n",
    "    \n",
    "    prompt =  f'write an explanation for the joke - {state[\"joke\"]}'\n",
    "    response = llm.invoke(prompt).content\n",
    "    \n",
    "    return {'explanation': response}"
   ]
  },
  {
   "cell_type": "code",
   "execution_count": 6,
   "id": "10c213b8",
   "metadata": {},
   "outputs": [],
   "source": [
    "graph = StateGraph(JokeState)\n",
    "\n",
    "graph.add_node('generate_joke', generate_joke)\n",
    "graph.add_node('generate_explanation', generate_explanation)\n",
    "\n",
    "graph.add_edge(START,'generate_joke')\n",
    "graph.add_edge('generate_joke', 'generate_explanation')\n",
    "graph.add_edge('generate_explanation', END)\n",
    "\n",
    "checkpointer = InMemorySaver()\n",
    "workflow = graph.compile(checkpointer=checkpointer)"
   ]
  },
  {
   "cell_type": "code",
   "execution_count": 7,
   "id": "52469c30",
   "metadata": {},
   "outputs": [
    {
     "data": {
      "text/plain": [
       "{'topic': 'cats',\n",
       " 'joke': \"Why did the cat join the Red Cross?\\n\\nBecause it wanted to be a first-aid kit! (First-aid kit...first-aid...cat...you know, like, helping people who are hurt? ...Okay, I'll show myself out.)\",\n",
       " 'explanation': 'The joke \"Why did the cat join the Red Cross? Because it wanted to be a first-aid kit!\" relies on a pun, a play on words based on similar sounds but different meanings. Here\\'s the breakdown:\\n\\n* **The Setup:** The question \"Why did the cat join the Red Cross?\" creates an expectation that the answer will be related to the Red Cross\\'s activities, which are primarily providing aid and relief in emergencies, especially medical ones.\\n\\n* **The Pun:** The punchline \"Because it wanted to be a first-aid kit!\" is where the humor lies. It plays on the sound and association of \"first-aid\" with \"first-aid kit.\"\\n\\n* **The Connection:**  A \"first-aid kit\" contains supplies to provide immediate medical assistance. The cat, by wanting to *be* one, is implying it wants to help people who are hurt, which aligns with the Red Cross\\'s mission.  The joke highlights the similarity between \"first-aid\" and \"first-aid kit,\" creating a silly and unexpected connection.\\n\\n* **The Humor:** The humor comes from the absurdity of a cat literally wanting to *be* a first-aid kit. It\\'s unexpected and a bit nonsensical, making it a lighthearted and punny joke.\\n\\nThe joke is a bit silly and relies on the listener making the connection between the words and the concept of providing aid.'}"
      ]
     },
     "execution_count": 7,
     "metadata": {},
     "output_type": "execute_result"
    }
   ],
   "source": [
    "config1 ={'configurable':{'thread_id':'1'}}\n",
    "workflow.invoke({'topic':'cats'}, config=config1)"
   ]
  },
  {
   "cell_type": "code",
   "execution_count": 8,
   "id": "5fd39d6c",
   "metadata": {},
   "outputs": [
    {
     "data": {
      "text/plain": [
       "StateSnapshot(values={'topic': 'cats', 'joke': \"Why did the cat join the Red Cross?\\n\\nBecause it wanted to be a first-aid kit! (First-aid kit...first-aid...cat...you know, like, helping people who are hurt? ...Okay, I'll show myself out.)\", 'explanation': 'The joke \"Why did the cat join the Red Cross? Because it wanted to be a first-aid kit!\" relies on a pun, a play on words based on similar sounds but different meanings. Here\\'s the breakdown:\\n\\n* **The Setup:** The question \"Why did the cat join the Red Cross?\" creates an expectation that the answer will be related to the Red Cross\\'s activities, which are primarily providing aid and relief in emergencies, especially medical ones.\\n\\n* **The Pun:** The punchline \"Because it wanted to be a first-aid kit!\" is where the humor lies. It plays on the sound and association of \"first-aid\" with \"first-aid kit.\"\\n\\n* **The Connection:**  A \"first-aid kit\" contains supplies to provide immediate medical assistance. The cat, by wanting to *be* one, is implying it wants to help people who are hurt, which aligns with the Red Cross\\'s mission.  The joke highlights the similarity between \"first-aid\" and \"first-aid kit,\" creating a silly and unexpected connection.\\n\\n* **The Humor:** The humor comes from the absurdity of a cat literally wanting to *be* a first-aid kit. It\\'s unexpected and a bit nonsensical, making it a lighthearted and punny joke.\\n\\nThe joke is a bit silly and relies on the listener making the connection between the words and the concept of providing aid.'}, next=(), config={'configurable': {'thread_id': '1', 'checkpoint_ns': '', 'checkpoint_id': '1f07203c-c879-6ca7-8002-5167c0b35402'}}, metadata={'source': 'loop', 'step': 2, 'parents': {}, 'thread_id': '1'}, created_at='2025-08-05T13:55:09.039325+00:00', parent_config={'configurable': {'thread_id': '1', 'checkpoint_ns': '', 'checkpoint_id': '1f07203c-a823-64df-8001-d46e827bef66'}}, tasks=(), interrupts=())"
      ]
     },
     "execution_count": 8,
     "metadata": {},
     "output_type": "execute_result"
    }
   ],
   "source": [
    "workflow.get_state(config1)"
   ]
  },
  {
   "cell_type": "code",
   "execution_count": 9,
   "id": "1b651730",
   "metadata": {},
   "outputs": [
    {
     "data": {
      "text/plain": [
       "[StateSnapshot(values={'topic': 'cats', 'joke': \"Why did the cat join the Red Cross?\\n\\nBecause it wanted to be a first-aid kit! (First-aid kit...first-aid...cat...you know, like, helping people who are hurt? ...Okay, I'll show myself out.)\", 'explanation': 'The joke \"Why did the cat join the Red Cross? Because it wanted to be a first-aid kit!\" relies on a pun, a play on words based on similar sounds but different meanings. Here\\'s the breakdown:\\n\\n* **The Setup:** The question \"Why did the cat join the Red Cross?\" creates an expectation that the answer will be related to the Red Cross\\'s activities, which are primarily providing aid and relief in emergencies, especially medical ones.\\n\\n* **The Pun:** The punchline \"Because it wanted to be a first-aid kit!\" is where the humor lies. It plays on the sound and association of \"first-aid\" with \"first-aid kit.\"\\n\\n* **The Connection:**  A \"first-aid kit\" contains supplies to provide immediate medical assistance. The cat, by wanting to *be* one, is implying it wants to help people who are hurt, which aligns with the Red Cross\\'s mission.  The joke highlights the similarity between \"first-aid\" and \"first-aid kit,\" creating a silly and unexpected connection.\\n\\n* **The Humor:** The humor comes from the absurdity of a cat literally wanting to *be* a first-aid kit. It\\'s unexpected and a bit nonsensical, making it a lighthearted and punny joke.\\n\\nThe joke is a bit silly and relies on the listener making the connection between the words and the concept of providing aid.'}, next=(), config={'configurable': {'thread_id': '1', 'checkpoint_ns': '', 'checkpoint_id': '1f07203c-c879-6ca7-8002-5167c0b35402'}}, metadata={'source': 'loop', 'step': 2, 'parents': {}, 'thread_id': '1'}, created_at='2025-08-05T13:55:09.039325+00:00', parent_config={'configurable': {'thread_id': '1', 'checkpoint_ns': '', 'checkpoint_id': '1f07203c-a823-64df-8001-d46e827bef66'}}, tasks=(), interrupts=()),\n",
       " StateSnapshot(values={'topic': 'cats', 'joke': \"Why did the cat join the Red Cross?\\n\\nBecause it wanted to be a first-aid kit! (First-aid kit...first-aid...cat...you know, like, helping people who are hurt? ...Okay, I'll show myself out.)\"}, next=('generate_explanation',), config={'configurable': {'thread_id': '1', 'checkpoint_ns': '', 'checkpoint_id': '1f07203c-a823-64df-8001-d46e827bef66'}}, metadata={'source': 'loop', 'step': 1, 'parents': {}, 'thread_id': '1'}, created_at='2025-08-05T13:55:05.648457+00:00', parent_config={'configurable': {'thread_id': '1', 'checkpoint_ns': '', 'checkpoint_id': '1f07203c-9917-6c8e-8000-9c57aeb51c44'}}, tasks=(PregelTask(id='7a7c91d2-ff11-378a-989f-c17388361666', name='generate_explanation', path=('__pregel_pull', 'generate_explanation'), error=None, interrupts=(), state=None, result={'explanation': 'The joke \"Why did the cat join the Red Cross? Because it wanted to be a first-aid kit!\" relies on a pun, a play on words based on similar sounds but different meanings. Here\\'s the breakdown:\\n\\n* **The Setup:** The question \"Why did the cat join the Red Cross?\" creates an expectation that the answer will be related to the Red Cross\\'s activities, which are primarily providing aid and relief in emergencies, especially medical ones.\\n\\n* **The Pun:** The punchline \"Because it wanted to be a first-aid kit!\" is where the humor lies. It plays on the sound and association of \"first-aid\" with \"first-aid kit.\"\\n\\n* **The Connection:**  A \"first-aid kit\" contains supplies to provide immediate medical assistance. The cat, by wanting to *be* one, is implying it wants to help people who are hurt, which aligns with the Red Cross\\'s mission.  The joke highlights the similarity between \"first-aid\" and \"first-aid kit,\" creating a silly and unexpected connection.\\n\\n* **The Humor:** The humor comes from the absurdity of a cat literally wanting to *be* a first-aid kit. It\\'s unexpected and a bit nonsensical, making it a lighthearted and punny joke.\\n\\nThe joke is a bit silly and relies on the listener making the connection between the words and the concept of providing aid.'}),), interrupts=()),\n",
       " StateSnapshot(values={'topic': 'cats'}, next=('generate_joke',), config={'configurable': {'thread_id': '1', 'checkpoint_ns': '', 'checkpoint_id': '1f07203c-9917-6c8e-8000-9c57aeb51c44'}}, metadata={'source': 'loop', 'step': 0, 'parents': {}, 'thread_id': '1'}, created_at='2025-08-05T13:55:04.070874+00:00', parent_config={'configurable': {'thread_id': '1', 'checkpoint_ns': '', 'checkpoint_id': '1f07203c-9917-6c8d-bfff-3218a3e35d07'}}, tasks=(PregelTask(id='26dab412-cbc2-4f4f-d55b-366217baaed5', name='generate_joke', path=('__pregel_pull', 'generate_joke'), error=None, interrupts=(), state=None, result={'joke': \"Why did the cat join the Red Cross?\\n\\nBecause it wanted to be a first-aid kit! (First-aid kit...first-aid...cat...you know, like, helping people who are hurt? ...Okay, I'll show myself out.)\"}),), interrupts=()),\n",
       " StateSnapshot(values={}, next=('__start__',), config={'configurable': {'thread_id': '1', 'checkpoint_ns': '', 'checkpoint_id': '1f07203c-9917-6c8d-bfff-3218a3e35d07'}}, metadata={'source': 'input', 'step': -1, 'parents': {}, 'thread_id': '1'}, created_at='2025-08-05T13:55:04.070874+00:00', parent_config=None, tasks=(PregelTask(id='b023f750-ae93-a298-b63a-c9d7239d32c3', name='__start__', path=('__pregel_pull', '__start__'), error=None, interrupts=(), state=None, result={'topic': 'cats'}),), interrupts=())]"
      ]
     },
     "execution_count": 9,
     "metadata": {},
     "output_type": "execute_result"
    }
   ],
   "source": [
    "list(workflow.get_state_history(config1))"
   ]
  },
  {
   "cell_type": "code",
   "execution_count": 10,
   "id": "4612a38f",
   "metadata": {},
   "outputs": [
    {
     "data": {
      "text/plain": [
       "{'topic': 'pasta',\n",
       " 'joke': 'Why did the spaghetti blush?\\n\\nBecause it saw the meat sauce!',\n",
       " 'explanation': 'This joke plays on the double meaning of the word \"saw.\"\\n\\n*   **Literal Meaning:** The spaghetti literally \"saw\" or visually perceived the meat sauce.\\n*   **Figurative Meaning:** The joke implies a more suggestive meaning of \"saw,\" suggesting the spaghetti was embarrassed or aroused by the meat sauce. This is due to the implication that the meat sauce is somehow scandalous or suggestive.\\n\\nThe humor comes from the unexpected shift from a simple observation to a suggestive scenario, making the spaghetti \"blush\" (a physical reaction to embarrassment or shyness).'}"
      ]
     },
     "execution_count": 10,
     "metadata": {},
     "output_type": "execute_result"
    }
   ],
   "source": [
    "config2 = {\"configurable\": {\"thread_id\": \"2\"}}\n",
    "workflow.invoke({'topic':'pasta'}, config=config2)"
   ]
  },
  {
   "cell_type": "code",
   "execution_count": null,
   "id": "caa2e270",
   "metadata": {},
   "outputs": [],
   "source": []
  },
  {
   "cell_type": "code",
   "execution_count": null,
   "id": "aa809e8f",
   "metadata": {},
   "outputs": [],
   "source": []
  }
 ],
 "metadata": {
  "kernelspec": {
   "display_name": "graph (3.12.4)",
   "language": "python",
   "name": "python3"
  },
  "language_info": {
   "codemirror_mode": {
    "name": "ipython",
    "version": 3
   },
   "file_extension": ".py",
   "mimetype": "text/x-python",
   "name": "python",
   "nbconvert_exporter": "python",
   "pygments_lexer": "ipython3",
   "version": "3.12.4"
  }
 },
 "nbformat": 4,
 "nbformat_minor": 5
}
