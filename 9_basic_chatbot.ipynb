{
 "cells": [
  {
   "cell_type": "code",
   "execution_count": null,
   "id": "3658ca43",
   "metadata": {},
   "outputs": [],
   "source": [
    "from langgraph.graph import StateGraph, START,END\n",
    "from typing import TypedDict, Annotated\n",
    "from langchain_core.messages import BaseMessage, HumanMessage\n",
    "from langchain_google_genai import ChatGoogleGenerativeAI\n",
    "from langgraph.checkpoint.memory import MemorySaver"
   ]
  },
  {
   "cell_type": "code",
   "execution_count": null,
   "id": "75aa08d2",
   "metadata": {},
   "outputs": [],
   "source": [
    "from langgraph.graph.message import add_messages\n",
    "\n",
    "class ChatState(TypedDict):\n",
    "    messages: Annotated[list[BaseMessage], add_messages]"
   ]
  },
  {
   "cell_type": "code",
   "execution_count": null,
   "id": "cf864a07",
   "metadata": {},
   "outputs": [],
   "source": [
    "llm= ChatGoogleGenerativeAI(model='gemini-2.0-flash')\n",
    "\n",
    "def chat_node(state: ChatState):\n",
    "    messages= state['messages']\n",
    "    \n",
    "    response = llm.invoke(messages)\n",
    "    \n",
    "    return {'messages':[response]}"
   ]
  },
  {
   "cell_type": "code",
   "execution_count": null,
   "id": "039d6a98",
   "metadata": {},
   "outputs": [],
   "source": [
    "checkpointer = MemorySaver()\n",
    "graph = StateGraph(ChatState)\n",
    "\n",
    "graph.add_node('chat_node',chat_node)\n",
    "\n",
    "graph.add_edge(START,'chat_node')\n",
    "graph.add_edge('chat_node',END)\n",
    "chatbot=graph.compile(checkpointer=checkpointer)\n",
    "chatbot"
   ]
  },
  {
   "cell_type": "code",
   "execution_count": null,
   "id": "64fa34eb",
   "metadata": {},
   "outputs": [],
   "source": [
    "initial_state = {\n",
    "    'messages': [HumanMessage(content='what is graph theory?')]\n",
    "    }\n",
    "chatbot.invoke(initial_state)['messages'][-1].content"
   ]
  },
  {
   "cell_type": "code",
   "execution_count": null,
   "id": "001a9a41",
   "metadata": {},
   "outputs": [],
   "source": [
    "thread_id = 1\n",
    "\n",
    "while True:\n",
    "    user_message = input('Type here:')\n",
    "    print('User:',user_message)\n",
    "    \n",
    "    if user_message.strip().lower() in ['exit', 'quit','bye']:\n",
    "        break\n",
    "    \n",
    "    config = {'configurable':{'thread_id':thread_id}}   \n",
    "    \n",
    "    response = chatbot.invoke({'messages':[HumanMessage(content=user_message)]},config=config)\n",
    "    \n",
    "    print('AI:', response['messages'][-1].content)"
   ]
  }
 ],
 "metadata": {
  "kernelspec": {
   "display_name": "graph (3.12.4)",
   "language": "python",
   "name": "python3"
  },
  "language_info": {
   "codemirror_mode": {
    "name": "ipython",
    "version": 3
   },
   "file_extension": ".py",
   "mimetype": "text/x-python",
   "name": "python",
   "nbconvert_exporter": "python",
   "pygments_lexer": "ipython3",
   "version": "3.12.4"
  }
 },
 "nbformat": 4,
 "nbformat_minor": 5
}
