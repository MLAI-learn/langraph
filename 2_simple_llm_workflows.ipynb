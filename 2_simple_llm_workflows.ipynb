{
 "cells": [
  {
   "cell_type": "code",
   "execution_count": 1,
   "id": "0753ef70",
   "metadata": {},
   "outputs": [],
   "source": [
    "from langgraph.graph import StateGraph, START, END\n",
    "from langchain_google_genai import ChatGoogleGenerativeAI\n",
    "from typing import TypedDict\n",
    "from dotenv import load_dotenv"
   ]
  },
  {
   "cell_type": "code",
   "execution_count": 2,
   "id": "3088b6f1",
   "metadata": {},
   "outputs": [
    {
     "data": {
      "text/plain": [
       "True"
      ]
     },
     "execution_count": 2,
     "metadata": {},
     "output_type": "execute_result"
    }
   ],
   "source": [
    "load_dotenv()"
   ]
  },
  {
   "cell_type": "code",
   "execution_count": 3,
   "id": "8d06b2ae",
   "metadata": {},
   "outputs": [],
   "source": [
    "model= ChatGoogleGenerativeAI(model='models/gemini-2.0-flash')"
   ]
  },
  {
   "cell_type": "code",
   "execution_count": 4,
   "id": "dcbe6313",
   "metadata": {},
   "outputs": [],
   "source": [
    "class LLM_state(TypedDict):\n",
    "    question: str\n",
    "    answer: str"
   ]
  },
  {
   "cell_type": "code",
   "execution_count": 5,
   "id": "8cf34534",
   "metadata": {},
   "outputs": [],
   "source": [
    "def llm_qa(state: LLM_state) -> LLM_state:\n",
    "    question = state['question']\n",
    "    \n",
    "    # prompt\n",
    "    prompt = f\"Answer the question: {question}\"\n",
    "    answer = model.invoke(prompt).content\n",
    "    \n",
    "    state['answer'] = answer\n",
    "    return state"
   ]
  },
  {
   "cell_type": "code",
   "execution_count": 6,
   "id": "7f1326ef",
   "metadata": {},
   "outputs": [],
   "source": [
    "graph=StateGraph(LLM_state)\n",
    "\n",
    "# nodes\n",
    "graph.add_node('llm_qa',llm_qa)\n",
    "\n",
    "# edges\n",
    "graph.add_edge(START,'llm_qa')\n",
    "graph.add_edge('llm_qa',END)\n",
    "\n",
    "# compile\n",
    "workflow = graph.compile()"
   ]
  },
  {
   "cell_type": "code",
   "execution_count": 8,
   "id": "d0a84407",
   "metadata": {},
   "outputs": [
    {
     "name": "stdout",
     "output_type": "stream",
     "text": [
      "LangGraph is a Python library designed to build **stateful, multi-actor applications with LLMs (Large Language Models)**. Think of it as a framework for creating complex conversations and workflows involving multiple agents, where the state of the conversation is tracked and used to guide the interaction.\n",
      "\n",
      "In short, LangGraph helps you:\n",
      "\n",
      "*   **Define a state machine:**  This defines the different states your application can be in.\n",
      "*   **Connect states with edges:**  These edges represent transitions between states, often determined by the output of an LLM.\n",
      "*   **Introduce \"agents\" (nodes):**  These are the actors in your workflow, typically LLMs performing specific tasks or tools being used.\n",
      "*   **Manage the conversation flow:**  LangGraph handles the routing and state updates based on the agent outputs and defined edges.\n",
      "\n",
      "Essentially, it allows you to build sophisticated LLM applications beyond simple question-answering, enabling things like:\n",
      "\n",
      "*   **Multi-turn conversations:**  Maintaining context and adapting to user responses.\n",
      "*   **Tool use and orchestration:**  Using LLMs to decide which tools to use and how to combine their outputs.\n",
      "*   **Parallel processing:**  Running multiple agents concurrently to speed up tasks.\n",
      "*   **Error handling and recovery:**  Defining how to handle unexpected outputs or failures.\n"
     ]
    }
   ],
   "source": [
    "# execute\n",
    "initial_state = {'question': 'What is Langgraph? explain briefly.'}\n",
    "final_state = workflow.invoke(initial_state)\n",
    "\n",
    "print(final_state['answer'])"
   ]
  },
  {
   "cell_type": "code",
   "execution_count": null,
   "id": "5406dfaf",
   "metadata": {},
   "outputs": [],
   "source": []
  }
 ],
 "metadata": {
  "kernelspec": {
   "display_name": "graph",
   "language": "python",
   "name": "python3"
  },
  "language_info": {
   "codemirror_mode": {
    "name": "ipython",
    "version": 3
   },
   "file_extension": ".py",
   "mimetype": "text/x-python",
   "name": "python",
   "nbconvert_exporter": "python",
   "pygments_lexer": "ipython3",
   "version": "3.12.4"
  }
 },
 "nbformat": 4,
 "nbformat_minor": 5
}
