{
 "cells": [
  {
   "cell_type": "code",
   "execution_count": 1,
   "id": "0753ef70",
   "metadata": {},
   "outputs": [],
   "source": [
    "from langgraph.graph import StateGraph, START, END\n",
    "from langchain_google_genai import ChatGoogleGenerativeAI\n",
    "from typing import TypedDict\n",
    "from dotenv import load_dotenv"
   ]
  },
  {
   "cell_type": "code",
   "execution_count": 2,
   "id": "3088b6f1",
   "metadata": {},
   "outputs": [
    {
     "data": {
      "text/plain": [
       "True"
      ]
     },
     "execution_count": 2,
     "metadata": {},
     "output_type": "execute_result"
    }
   ],
   "source": [
    "load_dotenv()"
   ]
  },
  {
   "cell_type": "code",
   "execution_count": 8,
   "id": "8d06b2ae",
   "metadata": {},
   "outputs": [],
   "source": [
    "model= ChatGoogleGenerativeAI(model='models/gemini-2.0-flash')"
   ]
  },
  {
   "cell_type": "code",
   "execution_count": 4,
   "id": "dcbe6313",
   "metadata": {},
   "outputs": [],
   "source": [
    "class LLM_state(TypedDict):\n",
    "    question: str\n",
    "    answer: str"
   ]
  },
  {
   "cell_type": "code",
   "execution_count": 5,
   "id": "8cf34534",
   "metadata": {},
   "outputs": [],
   "source": [
    "def llm_qa(state: LLM_state) -> LLM_state:\n",
    "    question = state['question']\n",
    "    \n",
    "    # prompt\n",
    "    prompt = f\"Answer the question: {question}\"\n",
    "    answer = model.invoke(prompt).content\n",
    "    \n",
    "    state['answer'] = answer\n",
    "    return state"
   ]
  },
  {
   "cell_type": "code",
   "execution_count": 6,
   "id": "7f1326ef",
   "metadata": {},
   "outputs": [],
   "source": [
    "graph=StateGraph(LLM_state)\n",
    "\n",
    "# nodes\n",
    "graph.add_node('llm_qa',llm_qa)\n",
    "\n",
    "# edges\n",
    "graph.add_edge(START,'llm_qa')\n",
    "graph.add_edge('llm_qa',END)\n",
    "\n",
    "# compile\n",
    "workflow = graph.compile()"
   ]
  },
  {
   "cell_type": "code",
   "execution_count": 9,
   "id": "d0a84407",
   "metadata": {},
   "outputs": [
    {
     "name": "stdout",
     "output_type": "stream",
     "text": [
      "Langgraph is a library, built on top of LangChain, designed to make it easier to build **stateful, multi-actor conversational applications**. Think of it as a way to orchestrate complex interactions between different agents or components within a single application, allowing them to react to each other's outputs and maintain a persistent state across conversations.\n",
      "\n",
      "In short, Langgraph helps you create **more sophisticated and dynamic conversational flows** by allowing you to define the relationships and dependencies between different \"nodes\" (agents, tools, etc.) in a graph-like structure. This allows for more complex logic and decision-making within your conversational application.\n"
     ]
    }
   ],
   "source": [
    "# execute\n",
    "initial_state = {'question': 'What is Langgraph? explain briefly.'}\n",
    "final_state = workflow.invoke(initial_state)\n",
    "\n",
    "print(final_state['answer'])"
   ]
  },
  {
   "cell_type": "code",
   "execution_count": null,
   "id": "c7954bac",
   "metadata": {},
   "outputs": [],
   "source": []
  }
 ],
 "metadata": {
  "kernelspec": {
   "display_name": "graph (3.12.4)",
   "language": "python",
   "name": "python3"
  },
  "language_info": {
   "codemirror_mode": {
    "name": "ipython",
    "version": 3
   },
   "file_extension": ".py",
   "mimetype": "text/x-python",
   "name": "python",
   "nbconvert_exporter": "python",
   "pygments_lexer": "ipython3",
   "version": "3.12.4"
  }
 },
 "nbformat": 4,
 "nbformat_minor": 5
}
